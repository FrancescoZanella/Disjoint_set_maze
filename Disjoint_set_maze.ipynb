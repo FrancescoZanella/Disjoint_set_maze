{
  "cells": [
    {
      "cell_type": "markdown",
      "metadata": {
        "id": "view-in-github",
        "colab_type": "text"
      },
      "source": [
        "<a href=\"https://colab.research.google.com/github/FrancescoZanella/Disjoint_set_maze/blob/main/Disjoint_set_maze.ipynb\" target=\"_parent\"><img src=\"https://colab.research.google.com/assets/colab-badge.svg\" alt=\"Open In Colab\"/></a>"
      ]
    },
    {
      "cell_type": "markdown",
      "metadata": {
        "id": "tCEkjV-JooxF"
      },
      "source": [
        "# **Random Maze implementation using disjoint-set data-structure**\n",
        "\n"
      ]
    },
    {
      "cell_type": "markdown",
      "metadata": {
        "id": "f41lpzrMIuhA"
      },
      "source": [
        "# **Notebook setup**\n"
      ]
    },
    {
      "cell_type": "markdown",
      "metadata": {
        "id": "CleXPtlpJAPM"
      },
      "source": [
        "**Download the code to use the benchmark**\n"
      ]
    },
    {
      "cell_type": "code",
      "execution_count": 1,
      "metadata": {
        "id": "orQxqLSNF1yu",
        "colab": {
          "base_uri": "https://localhost:8080/"
        },
        "outputId": "28519bd8-84ce-4d2e-c41d-55dbd52f6b5b"
      },
      "outputs": [
        {
          "output_type": "stream",
          "name": "stdout",
          "text": [
            "Cloning into 'benchmark'...\n",
            "remote: Enumerating objects: 8228, done.\u001b[K\n",
            "remote: Counting objects: 100% (1702/1702), done.\u001b[K\n",
            "remote: Compressing objects: 100% (245/245), done.\u001b[K\n",
            "remote: Total 8228 (delta 1548), reused 1502 (delta 1453), pack-reused 6526\u001b[K\n",
            "Receiving objects: 100% (8228/8228), 2.56 MiB | 5.46 MiB/s, done.\n",
            "Resolving deltas: 100% (5539/5539), done.\n",
            "Cloning into 'benchmark/googletest'...\n",
            "remote: Enumerating objects: 26986, done.\u001b[K\n",
            "remote: Counting objects: 100% (25/25), done.\u001b[K\n",
            "remote: Compressing objects: 100% (18/18), done.\u001b[K\n",
            "remote: Total 26986 (delta 7), reused 16 (delta 7), pack-reused 26961\u001b[K\n",
            "Receiving objects: 100% (26986/26986), 12.39 MiB | 13.50 MiB/s, done.\n",
            "Resolving deltas: 100% (20041/20041), done.\n"
          ]
        }
      ],
      "source": [
        "!git clone https://github.com/google/benchmark.git\n",
        "!git clone https://github.com/google/googletest.git benchmark/googletest"
      ]
    },
    {
      "cell_type": "markdown",
      "metadata": {
        "id": "wWo78TSNJGYk"
      },
      "source": [
        "**Organize the code and install**"
      ]
    },
    {
      "cell_type": "code",
      "execution_count": 2,
      "metadata": {
        "id": "zMnP5AyWF5z0",
        "colab": {
          "base_uri": "https://localhost:8080/"
        },
        "outputId": "a363cdfc-164c-4f91-85ba-6eb0d4904000"
      },
      "outputs": [
        {
          "output_type": "stream",
          "name": "stdout",
          "text": [
            "-- The CXX compiler identification is GNU 11.4.0\n",
            "-- Detecting CXX compiler ABI info\n",
            "-- Detecting CXX compiler ABI info - done\n",
            "-- Check for working CXX compiler: /usr/bin/c++ - skipped\n",
            "-- Detecting CXX compile features\n",
            "-- Detecting CXX compile features - done\n",
            "-- Failed to find LLVM FileCheck\n",
            "-- Found Git: /usr/bin/git (found version \"2.34.1\") \n",
            "-- git version: v1.8.3-3-gca8d0f7b normalized to 1.8.3.3\n",
            "-- Google Benchmark version: 1.8.3.3\n",
            "-- Looking for shm_open in rt\n",
            "-- Looking for shm_open in rt - found\n",
            "-- Performing Test HAVE_CXX_FLAG_WALL\n",
            "-- Performing Test HAVE_CXX_FLAG_WALL - Success\n",
            "-- Performing Test HAVE_CXX_FLAG_WEXTRA\n",
            "-- Performing Test HAVE_CXX_FLAG_WEXTRA - Success\n",
            "-- Performing Test HAVE_CXX_FLAG_WSHADOW\n",
            "-- Performing Test HAVE_CXX_FLAG_WSHADOW - Success\n",
            "-- Performing Test HAVE_CXX_FLAG_WFLOAT_EQUAL\n",
            "-- Performing Test HAVE_CXX_FLAG_WFLOAT_EQUAL - Success\n",
            "-- Performing Test HAVE_CXX_FLAG_WOLD_STYLE_CAST\n",
            "-- Performing Test HAVE_CXX_FLAG_WOLD_STYLE_CAST - Success\n",
            "-- Performing Test HAVE_CXX_FLAG_WERROR\n",
            "-- Performing Test HAVE_CXX_FLAG_WERROR - Success\n",
            "-- Performing Test HAVE_CXX_FLAG_PEDANTIC\n",
            "-- Performing Test HAVE_CXX_FLAG_PEDANTIC - Success\n",
            "-- Performing Test HAVE_CXX_FLAG_PEDANTIC_ERRORS\n",
            "-- Performing Test HAVE_CXX_FLAG_PEDANTIC_ERRORS - Success\n",
            "-- Performing Test HAVE_CXX_FLAG_WSHORTEN_64_TO_32\n",
            "-- Performing Test HAVE_CXX_FLAG_WSHORTEN_64_TO_32 - Failed\n",
            "-- Performing Test HAVE_CXX_FLAG_FSTRICT_ALIASING\n",
            "-- Performing Test HAVE_CXX_FLAG_FSTRICT_ALIASING - Success\n",
            "-- Performing Test HAVE_CXX_FLAG_WNO_DEPRECATED_DECLARATIONS\n",
            "-- Performing Test HAVE_CXX_FLAG_WNO_DEPRECATED_DECLARATIONS - Success\n",
            "-- Performing Test HAVE_CXX_FLAG_WNO_DEPRECATED\n",
            "-- Performing Test HAVE_CXX_FLAG_WNO_DEPRECATED - Success\n",
            "-- Performing Test HAVE_CXX_FLAG_WSTRICT_ALIASING\n",
            "-- Performing Test HAVE_CXX_FLAG_WSTRICT_ALIASING - Success\n",
            "-- Performing Test HAVE_CXX_FLAG_WD654\n",
            "-- Performing Test HAVE_CXX_FLAG_WD654 - Failed\n",
            "-- Performing Test HAVE_CXX_FLAG_WTHREAD_SAFETY\n",
            "-- Performing Test HAVE_CXX_FLAG_WTHREAD_SAFETY - Failed\n",
            "-- Performing Test HAVE_CXX_FLAG_COVERAGE\n",
            "-- Performing Test HAVE_CXX_FLAG_COVERAGE - Success\n",
            "-- Compiling and running to test HAVE_STD_REGEX\n",
            "-- Performing Test HAVE_STD_REGEX -- success\n",
            "-- Compiling and running to test HAVE_GNU_POSIX_REGEX\n",
            "-- Performing Test HAVE_GNU_POSIX_REGEX -- failed to compile\n",
            "-- Compiling and running to test HAVE_POSIX_REGEX\n",
            "-- Performing Test HAVE_POSIX_REGEX -- success\n",
            "-- Compiling and running to test HAVE_STEADY_CLOCK\n",
            "-- Performing Test HAVE_STEADY_CLOCK -- success\n",
            "-- Performing Test CMAKE_HAVE_LIBC_PTHREAD\n",
            "-- Performing Test CMAKE_HAVE_LIBC_PTHREAD - Success\n",
            "-- Found Threads: TRUE  \n",
            "-- Compiling and running to test HAVE_PTHREAD_AFFINITY\n",
            "-- Performing Test HAVE_PTHREAD_AFFINITY -- success\n",
            "CMake Deprecation Warning at CMakeLists.txt:1 (cmake_minimum_required):\n",
            "  Compatibility with CMake < 3.5 will be removed from a future version of\n",
            "  CMake.\n",
            "\n",
            "  Update the VERSION argument <min> value or use a ...<max> suffix to tell\n",
            "  CMake that the project does not need compatibility with older versions.\n",
            "\n",
            "\n",
            "-- Looking for Google Test sources\n",
            "-- Looking for Google Test sources in /content/benchmark/googletest\n",
            "-- Found Google Test in /content/benchmark/googletest\n",
            "-- Configuring done (0.0s)\n",
            "-- Generating done (0.0s)\n",
            "-- Build files have been written to: /content/benchmark/build/third_party/googletest\n",
            "[ 11%] Creating directories for 'googletest'\n",
            "[ 22%] No download step for 'googletest'\n",
            "[ 33%] No update step for 'googletest'\n",
            "[ 44%] No patch step for 'googletest'\n",
            "[ 55%] No configure step for 'googletest'\n",
            "[ 66%] No build step for 'googletest'\n",
            "[ 77%] No install step for 'googletest'\n",
            "[ 88%] No test step for 'googletest'\n",
            "[100%] Completed 'googletest'\n",
            "[100%] Built target googletest\n",
            "-- The C compiler identification is GNU 11.4.0\n",
            "-- Detecting C compiler ABI info\n",
            "-- Detecting C compiler ABI info - done\n",
            "-- Check for working C compiler: /usr/bin/cc - skipped\n",
            "-- Detecting C compile features\n",
            "-- Detecting C compile features - done\n",
            "-- Found Python3: /usr/local/bin/python (found version \"3.10.12\") found components: Interpreter \n",
            "-- Performing Test BENCHMARK_HAS_O3_FLAG\n",
            "-- Performing Test BENCHMARK_HAS_O3_FLAG - Success\n",
            "-- Performing Test BENCHMARK_HAS_DEPRECATED_DECLARATIONS_FLAG\n",
            "-- Performing Test BENCHMARK_HAS_DEPRECATED_DECLARATIONS_FLAG - Success\n",
            "-- Performing Test BENCHMARK_HAS_WNO_ODR\n",
            "-- Performing Test BENCHMARK_HAS_WNO_ODR - Success\n",
            "-- Performing Test BENCHMARK_HAS_WNO_LTO_TYPE_MISMATCH\n",
            "-- Performing Test BENCHMARK_HAS_WNO_LTO_TYPE_MISMATCH - Success\n",
            "-- Configuring done (10.7s)\n",
            "-- Generating done (0.1s)\n",
            "-- Build files have been written to: /content/benchmark/build\n",
            "[  1%] \u001b[32mBuilding CXX object src/CMakeFiles/benchmark.dir/benchmark.cc.o\u001b[0m\n",
            "[  2%] \u001b[32mBuilding CXX object src/CMakeFiles/benchmark.dir/benchmark_api_internal.cc.o\u001b[0m\n",
            "[  3%] \u001b[32mBuilding CXX object src/CMakeFiles/benchmark.dir/benchmark_name.cc.o\u001b[0m\n",
            "[  4%] \u001b[32mBuilding CXX object src/CMakeFiles/benchmark.dir/benchmark_register.cc.o\u001b[0m\n",
            "[  5%] \u001b[32mBuilding CXX object src/CMakeFiles/benchmark.dir/benchmark_runner.cc.o\u001b[0m\n",
            "[  5%] \u001b[32mBuilding CXX object src/CMakeFiles/benchmark.dir/check.cc.o\u001b[0m\n",
            "[  6%] \u001b[32mBuilding CXX object src/CMakeFiles/benchmark.dir/colorprint.cc.o\u001b[0m\n",
            "[  7%] \u001b[32mBuilding CXX object src/CMakeFiles/benchmark.dir/commandlineflags.cc.o\u001b[0m\n",
            "[  8%] \u001b[32mBuilding CXX object src/CMakeFiles/benchmark.dir/complexity.cc.o\u001b[0m\n",
            "[  9%] \u001b[32mBuilding CXX object src/CMakeFiles/benchmark.dir/console_reporter.cc.o\u001b[0m\n",
            "[ 10%] \u001b[32mBuilding CXX object src/CMakeFiles/benchmark.dir/counter.cc.o\u001b[0m\n",
            "[ 11%] \u001b[32mBuilding CXX object src/CMakeFiles/benchmark.dir/csv_reporter.cc.o\u001b[0m\n",
            "[ 12%] \u001b[32mBuilding CXX object src/CMakeFiles/benchmark.dir/json_reporter.cc.o\u001b[0m\n",
            "[ 13%] \u001b[32mBuilding CXX object src/CMakeFiles/benchmark.dir/perf_counters.cc.o\u001b[0m\n",
            "[ 13%] \u001b[32mBuilding CXX object src/CMakeFiles/benchmark.dir/reporter.cc.o\u001b[0m\n",
            "[ 14%] \u001b[32mBuilding CXX object src/CMakeFiles/benchmark.dir/statistics.cc.o\u001b[0m\n",
            "[ 15%] \u001b[32mBuilding CXX object src/CMakeFiles/benchmark.dir/string_util.cc.o\u001b[0m\n",
            "[ 16%] \u001b[32mBuilding CXX object src/CMakeFiles/benchmark.dir/sysinfo.cc.o\u001b[0m\n",
            "[ 17%] \u001b[32mBuilding CXX object src/CMakeFiles/benchmark.dir/timers.cc.o\u001b[0m\n",
            "[ 18%] \u001b[32m\u001b[1mLinking CXX static library libbenchmark.a\u001b[0m\n",
            "[ 18%] Built target benchmark\n",
            "[ 19%] \u001b[32mBuilding CXX object src/CMakeFiles/benchmark_main.dir/benchmark_main.cc.o\u001b[0m\n",
            "[ 20%] \u001b[32m\u001b[1mLinking CXX static library libbenchmark_main.a\u001b[0m\n",
            "[ 20%] Built target benchmark_main\n",
            "[ 21%] \u001b[32mBuilding CXX object test/CMakeFiles/output_test_helper.dir/output_test_helper.cc.o\u001b[0m\n",
            "[ 22%] \u001b[32m\u001b[1mLinking CXX static library liboutput_test_helper.a\u001b[0m\n",
            "[ 22%] Built target output_test_helper\n",
            "[ 23%] \u001b[32mBuilding CXX object test/CMakeFiles/benchmark_test.dir/benchmark_test.cc.o\u001b[0m\n",
            "[ 24%] \u001b[32m\u001b[1mLinking CXX executable benchmark_test\u001b[0m\n",
            "[ 24%] Built target benchmark_test\n",
            "[ 25%] \u001b[32mBuilding CXX object test/CMakeFiles/spec_arg_test.dir/spec_arg_test.cc.o\u001b[0m\n",
            "[ 26%] \u001b[32m\u001b[1mLinking CXX executable spec_arg_test\u001b[0m\n",
            "[ 26%] Built target spec_arg_test\n",
            "[ 27%] \u001b[32mBuilding CXX object test/CMakeFiles/spec_arg_verbosity_test.dir/spec_arg_verbosity_test.cc.o\u001b[0m\n",
            "[ 28%] \u001b[32m\u001b[1mLinking CXX executable spec_arg_verbosity_test\u001b[0m\n",
            "[ 28%] Built target spec_arg_verbosity_test\n",
            "[ 29%] \u001b[32mBuilding CXX object test/CMakeFiles/benchmark_setup_teardown_test.dir/benchmark_setup_teardown_test.cc.o\u001b[0m\n",
            "[ 29%] \u001b[32m\u001b[1mLinking CXX executable benchmark_setup_teardown_test\u001b[0m\n",
            "[ 29%] Built target benchmark_setup_teardown_test\n",
            "[ 30%] \u001b[32mBuilding CXX object test/CMakeFiles/filter_test.dir/filter_test.cc.o\u001b[0m\n",
            "[ 31%] \u001b[32m\u001b[1mLinking CXX executable filter_test\u001b[0m\n",
            "[ 31%] Built target filter_test\n",
            "[ 32%] \u001b[32mBuilding CXX object test/CMakeFiles/benchmark_min_time_flag_time_test.dir/benchmark_min_time_flag_time_test.cc.o\u001b[0m\n",
            "[ 33%] \u001b[32m\u001b[1mLinking CXX executable benchmark_min_time_flag_time_test\u001b[0m\n",
            "[ 33%] Built target benchmark_min_time_flag_time_test\n",
            "[ 33%] \u001b[32mBuilding CXX object test/CMakeFiles/benchmark_min_time_flag_iters_test.dir/benchmark_min_time_flag_iters_test.cc.o\u001b[0m\n",
            "[ 34%] \u001b[32m\u001b[1mLinking CXX executable benchmark_min_time_flag_iters_test\u001b[0m\n",
            "[ 34%] Built target benchmark_min_time_flag_iters_test\n",
            "[ 35%] \u001b[32mBuilding CXX object test/CMakeFiles/options_test.dir/options_test.cc.o\u001b[0m\n",
            "[ 36%] \u001b[32m\u001b[1mLinking CXX executable options_test\u001b[0m\n",
            "[ 36%] Built target options_test\n",
            "[ 37%] \u001b[32mBuilding CXX object test/CMakeFiles/basic_test.dir/basic_test.cc.o\u001b[0m\n",
            "[ 38%] \u001b[32m\u001b[1mLinking CXX executable basic_test\u001b[0m\n",
            "[ 38%] Built target basic_test\n",
            "[ 39%] \u001b[32mBuilding CXX object test/CMakeFiles/repetitions_test.dir/repetitions_test.cc.o\u001b[0m\n",
            "[ 40%] \u001b[32m\u001b[1mLinking CXX executable repetitions_test\u001b[0m\n",
            "[ 40%] Built target repetitions_test\n",
            "[ 40%] \u001b[32mBuilding CXX object test/CMakeFiles/diagnostics_test.dir/diagnostics_test.cc.o\u001b[0m\n",
            "[ 41%] \u001b[32m\u001b[1mLinking CXX executable diagnostics_test\u001b[0m\n",
            "[ 41%] Built target diagnostics_test\n",
            "[ 42%] \u001b[32mBuilding CXX object test/CMakeFiles/skip_with_error_test.dir/skip_with_error_test.cc.o\u001b[0m\n",
            "[ 42%] \u001b[32m\u001b[1mLinking CXX executable skip_with_error_test\u001b[0m\n",
            "[ 42%] Built target skip_with_error_test\n",
            "[ 43%] \u001b[32mBuilding CXX object test/CMakeFiles/donotoptimize_test.dir/donotoptimize_test.cc.o\u001b[0m\n",
            "[ 44%] \u001b[32m\u001b[1mLinking CXX executable donotoptimize_test\u001b[0m\n",
            "[ 44%] Built target donotoptimize_test\n",
            "[ 45%] \u001b[32mBuilding CXX object test/CMakeFiles/fixture_test.dir/fixture_test.cc.o\u001b[0m\n",
            "[ 46%] \u001b[32m\u001b[1mLinking CXX executable fixture_test\u001b[0m\n",
            "[ 46%] Built target fixture_test\n",
            "[ 46%] \u001b[32mBuilding CXX object test/CMakeFiles/register_benchmark_test.dir/register_benchmark_test.cc.o\u001b[0m\n",
            "[ 47%] \u001b[32m\u001b[1mLinking CXX executable register_benchmark_test\u001b[0m\n",
            "[ 47%] Built target register_benchmark_test\n",
            "[ 48%] \u001b[32mBuilding CXX object test/CMakeFiles/map_test.dir/map_test.cc.o\u001b[0m\n",
            "[ 50%] \u001b[32m\u001b[1mLinking CXX executable map_test\u001b[0m\n",
            "[ 50%] Built target map_test\n",
            "[ 50%] \u001b[32mBuilding CXX object test/CMakeFiles/multiple_ranges_test.dir/multiple_ranges_test.cc.o\u001b[0m\n",
            "[ 51%] \u001b[32m\u001b[1mLinking CXX executable multiple_ranges_test\u001b[0m\n",
            "[ 51%] Built target multiple_ranges_test\n",
            "[ 51%] \u001b[32mBuilding CXX object test/CMakeFiles/args_product_test.dir/args_product_test.cc.o\u001b[0m\n",
            "[ 52%] \u001b[32m\u001b[1mLinking CXX executable args_product_test\u001b[0m\n",
            "[ 52%] Built target args_product_test\n",
            "[ 53%] \u001b[32mBuilding CXX object test/CMakeFiles/link_main_test.dir/link_main_test.cc.o\u001b[0m\n",
            "[ 54%] \u001b[32m\u001b[1mLinking CXX executable link_main_test\u001b[0m\n",
            "[ 54%] Built target link_main_test\n",
            "[ 55%] \u001b[32mBuilding CXX object test/CMakeFiles/reporter_output_test.dir/reporter_output_test.cc.o\u001b[0m\n",
            "[ 56%] \u001b[32m\u001b[1mLinking CXX executable reporter_output_test\u001b[0m\n",
            "[ 56%] Built target reporter_output_test\n",
            "[ 56%] \u001b[32mBuilding CXX object test/CMakeFiles/templated_fixture_test.dir/templated_fixture_test.cc.o\u001b[0m\n",
            "[ 57%] \u001b[32m\u001b[1mLinking CXX executable templated_fixture_test\u001b[0m\n",
            "[ 57%] Built target templated_fixture_test\n",
            "[ 58%] \u001b[32mBuilding CXX object test/CMakeFiles/user_counters_test.dir/user_counters_test.cc.o\u001b[0m\n",
            "[ 59%] \u001b[32m\u001b[1mLinking CXX executable user_counters_test\u001b[0m\n",
            "[ 59%] Built target user_counters_test\n",
            "[ 60%] \u001b[32mBuilding CXX object test/CMakeFiles/perf_counters_test.dir/perf_counters_test.cc.o\u001b[0m\n",
            "[ 61%] \u001b[32m\u001b[1mLinking CXX executable perf_counters_test\u001b[0m\n",
            "[ 61%] Built target perf_counters_test\n",
            "[ 62%] \u001b[32mBuilding CXX object test/CMakeFiles/internal_threading_test.dir/internal_threading_test.cc.o\u001b[0m\n",
            "[ 62%] \u001b[32m\u001b[1mLinking CXX executable internal_threading_test\u001b[0m\n",
            "[ 62%] Built target internal_threading_test\n",
            "[ 63%] \u001b[32mBuilding CXX object test/CMakeFiles/report_aggregates_only_test.dir/report_aggregates_only_test.cc.o\u001b[0m\n",
            "[ 64%] \u001b[32m\u001b[1mLinking CXX executable report_aggregates_only_test\u001b[0m\n",
            "[ 64%] Built target report_aggregates_only_test\n",
            "[ 65%] \u001b[32mBuilding CXX object test/CMakeFiles/display_aggregates_only_test.dir/display_aggregates_only_test.cc.o\u001b[0m\n",
            "[ 66%] \u001b[32m\u001b[1mLinking CXX executable display_aggregates_only_test\u001b[0m\n",
            "[ 66%] Built target display_aggregates_only_test\n",
            "[ 67%] \u001b[32mBuilding CXX object test/CMakeFiles/user_counters_tabular_test.dir/user_counters_tabular_test.cc.o\u001b[0m\n",
            "[ 68%] \u001b[32m\u001b[1mLinking CXX executable user_counters_tabular_test\u001b[0m\n",
            "[ 68%] Built target user_counters_tabular_test\n",
            "[ 69%] \u001b[32mBuilding CXX object test/CMakeFiles/user_counters_thousands_test.dir/user_counters_thousands_test.cc.o\u001b[0m\n",
            "[ 70%] \u001b[32m\u001b[1mLinking CXX executable user_counters_thousands_test\u001b[0m\n",
            "[ 70%] Built target user_counters_thousands_test\n",
            "[ 71%] \u001b[32mBuilding CXX object test/CMakeFiles/memory_manager_test.dir/memory_manager_test.cc.o\u001b[0m\n",
            "[ 72%] \u001b[32m\u001b[1mLinking CXX executable memory_manager_test\u001b[0m\n",
            "[ 72%] Built target memory_manager_test\n",
            "[ 73%] \u001b[32mBuilding CXX object test/CMakeFiles/cxx03_test.dir/cxx03_test.cc.o\u001b[0m\n",
            "[ 74%] \u001b[32m\u001b[1mLinking CXX executable cxx03_test\u001b[0m\n",
            "[ 74%] Built target cxx03_test\n",
            "[ 75%] \u001b[32mBuilding CXX object test/CMakeFiles/complexity_test.dir/complexity_test.cc.o\u001b[0m\n",
            "[ 76%] \u001b[32m\u001b[1mLinking CXX executable complexity_test\u001b[0m\n",
            "[ 76%] Built target complexity_test\n",
            "[ 77%] \u001b[32mBuilding CXX object third_party/googletest/build/googletest/CMakeFiles/gtest.dir/src/gtest-all.cc.o\u001b[0m\n",
            "[ 78%] \u001b[32m\u001b[1mLinking CXX static library ../../../../lib/libgtest.a\u001b[0m\n",
            "[ 78%] Built target gtest\n",
            "[ 78%] \u001b[32mBuilding CXX object third_party/googletest/build/googlemock/CMakeFiles/gmock.dir/src/gmock-all.cc.o\u001b[0m\n",
            "[ 79%] \u001b[32m\u001b[1mLinking CXX static library ../../../../lib/libgmock.a\u001b[0m\n",
            "[ 79%] Built target gmock\n",
            "[ 80%] \u001b[32mBuilding CXX object third_party/googletest/build/googlemock/CMakeFiles/gmock_main.dir/src/gmock_main.cc.o\u001b[0m\n",
            "[ 81%] \u001b[32m\u001b[1mLinking CXX static library ../../../../lib/libgmock_main.a\u001b[0m\n",
            "[ 81%] Built target gmock_main\n",
            "[ 82%] \u001b[32mBuilding CXX object test/CMakeFiles/benchmark_gtest.dir/benchmark_gtest.cc.o\u001b[0m\n",
            "[ 83%] \u001b[32m\u001b[1mLinking CXX executable benchmark_gtest\u001b[0m\n",
            "[ 83%] Built target benchmark_gtest\n",
            "[ 84%] \u001b[32mBuilding CXX object test/CMakeFiles/benchmark_name_gtest.dir/benchmark_name_gtest.cc.o\u001b[0m\n",
            "[ 85%] \u001b[32m\u001b[1mLinking CXX executable benchmark_name_gtest\u001b[0m\n",
            "[ 85%] Built target benchmark_name_gtest\n",
            "[ 86%] \u001b[32mBuilding CXX object test/CMakeFiles/benchmark_random_interleaving_gtest.dir/benchmark_random_interleaving_gtest.cc.o\u001b[0m\n",
            "[ 87%] \u001b[32m\u001b[1mLinking CXX executable benchmark_random_interleaving_gtest\u001b[0m\n",
            "[ 87%] Built target benchmark_random_interleaving_gtest\n",
            "[ 88%] \u001b[32mBuilding CXX object test/CMakeFiles/commandlineflags_gtest.dir/commandlineflags_gtest.cc.o\u001b[0m\n",
            "[ 89%] \u001b[32m\u001b[1mLinking CXX executable commandlineflags_gtest\u001b[0m\n",
            "[ 89%] Built target commandlineflags_gtest\n",
            "[ 90%] \u001b[32mBuilding CXX object test/CMakeFiles/statistics_gtest.dir/statistics_gtest.cc.o\u001b[0m\n",
            "[ 91%] \u001b[32m\u001b[1mLinking CXX executable statistics_gtest\u001b[0m\n",
            "[ 91%] Built target statistics_gtest\n",
            "[ 92%] \u001b[32mBuilding CXX object test/CMakeFiles/string_util_gtest.dir/string_util_gtest.cc.o\u001b[0m\n",
            "[ 93%] \u001b[32m\u001b[1mLinking CXX executable string_util_gtest\u001b[0m\n",
            "[ 93%] Built target string_util_gtest\n",
            "[ 94%] \u001b[32mBuilding CXX object test/CMakeFiles/perf_counters_gtest.dir/perf_counters_gtest.cc.o\u001b[0m\n",
            "[ 95%] \u001b[32m\u001b[1mLinking CXX executable perf_counters_gtest\u001b[0m\n",
            "[ 95%] Built target perf_counters_gtest\n",
            "[ 96%] \u001b[32mBuilding CXX object test/CMakeFiles/time_unit_gtest.dir/time_unit_gtest.cc.o\u001b[0m\n",
            "[ 97%] \u001b[32m\u001b[1mLinking CXX executable time_unit_gtest\u001b[0m\n",
            "[ 97%] Built target time_unit_gtest\n",
            "[ 98%] \u001b[32mBuilding CXX object test/CMakeFiles/min_time_parse_gtest.dir/min_time_parse_gtest.cc.o\u001b[0m\n",
            "[100%] \u001b[32m\u001b[1mLinking CXX executable min_time_parse_gtest\u001b[0m\n",
            "[100%] Built target min_time_parse_gtest\n",
            "\u001b[36mInstall the project...\u001b[0m\n",
            "-- Install configuration: \"Release\"\n",
            "-- Installing: /usr/local/lib/libbenchmark.a\n",
            "-- Installing: /usr/local/lib/libbenchmark_main.a\n",
            "-- Installing: /usr/local/include/benchmark\n",
            "-- Installing: /usr/local/include/benchmark/export.h\n",
            "-- Installing: /usr/local/include/benchmark/benchmark.h\n",
            "-- Installing: /usr/local/lib/cmake/benchmark/benchmarkConfig.cmake\n",
            "-- Installing: /usr/local/lib/cmake/benchmark/benchmarkConfigVersion.cmake\n",
            "-- Installing: /usr/local/lib/pkgconfig/benchmark.pc\n",
            "-- Installing: /usr/local/lib/cmake/benchmark/benchmarkTargets.cmake\n",
            "-- Installing: /usr/local/lib/cmake/benchmark/benchmarkTargets-release.cmake\n",
            "-- Installing: /usr/local/share/doc/benchmark\n",
            "-- Installing: /usr/local/share/doc/benchmark/perf_counters.md\n",
            "-- Installing: /usr/local/share/doc/benchmark/platform_specific_build_instructions.md\n",
            "-- Installing: /usr/local/share/doc/benchmark/AssemblyTests.md\n",
            "-- Installing: /usr/local/share/doc/benchmark/releasing.md\n",
            "-- Installing: /usr/local/share/doc/benchmark/random_interleaving.md\n",
            "-- Installing: /usr/local/share/doc/benchmark/_config.yml\n",
            "-- Installing: /usr/local/share/doc/benchmark/index.md\n",
            "-- Installing: /usr/local/share/doc/benchmark/dependencies.md\n",
            "-- Installing: /usr/local/share/doc/benchmark/tools.md\n",
            "-- Installing: /usr/local/share/doc/benchmark/python_bindings.md\n",
            "-- Installing: /usr/local/share/doc/benchmark/user_guide.md\n",
            "-- Installing: /usr/local/share/doc/benchmark/assets\n",
            "-- Installing: /usr/local/share/doc/benchmark/assets/images\n",
            "-- Installing: /usr/local/share/doc/benchmark/assets/images/icon.png\n",
            "-- Installing: /usr/local/share/doc/benchmark/assets/images/icon.xcf\n",
            "-- Installing: /usr/local/share/doc/benchmark/assets/images/icon_black.xcf\n",
            "-- Installing: /usr/local/share/doc/benchmark/assets/images/icon_black.png\n",
            "-- Installing: /usr/local/share/doc/benchmark/reducing_variance.md\n"
          ]
        }
      ],
      "source": [
        "!rm -rf benchmark/build\n",
        "!cmake -E make_directory \"benchmark/build\"\n",
        "!cmake -E chdir \"benchmark/build\" cmake -DCMAKE_BUILD_TYPE=Release ..\n",
        "!cmake --build \"benchmark/build\" --config Release --target install"
      ]
    },
    {
      "cell_type": "markdown",
      "metadata": {
        "id": "UUZLUl52JK8O"
      },
      "source": [
        "# **Implementation**"
      ]
    },
    {
      "cell_type": "markdown",
      "metadata": {
        "id": "6KtfaRA_JTri"
      },
      "source": [
        "**maze.h**"
      ]
    },
    {
      "cell_type": "code",
      "execution_count": 3,
      "metadata": {
        "colab": {
          "base_uri": "https://localhost:8080/"
        },
        "id": "Lzamd11nj8fZ",
        "outputId": "1935d0a5-3bf3-4ac9-eab1-521f3c0bba49"
      },
      "outputs": [
        {
          "output_type": "stream",
          "name": "stdout",
          "text": [
            "Writing maze.h\n"
          ]
        }
      ],
      "source": [
        "%%writefile maze.h\n",
        "#if!defined MAZE_H\n",
        "#define MAZE_H\n",
        "\n",
        "#include <stdio.h>\n",
        "#include <stdlib.h>\n",
        "#include <stdbool.h>\n",
        "\n",
        "typedef struct {\n",
        "    int row;\n",
        "    int col;\n",
        "}cord;\n",
        "\n",
        "struct disjoint_set {\n",
        "    cord value;\n",
        "    int height;\n",
        "    struct disjoint_set* parent;\n",
        "};\n",
        "typedef struct disjoint_set disjoint_set;\n",
        "\n",
        "void visualizemaze(bool* walls, int nrow, int ncols);\n",
        "void union_set(disjoint_set* s1, disjoint_set* s2);\n",
        "void find_the_cells_divided(cord* res1, cord* res2, int wall, int nrow, int ncol);\n",
        "cord find_rep(disjoint_set* cell);\n",
        "bool find(disjoint_set* s, cord values);\n",
        "bool compare_cord(cord s, cord s1);\n",
        "cord make_cord(int r, int c);\n",
        "void make_set(disjoint_set* s, cord value);\n",
        "bool* run_maze(int rows,int cols);\n",
        "#endif /*MAZE_H*/\n"
      ]
    },
    {
      "cell_type": "markdown",
      "metadata": {
        "id": "fNgpFEwrIpOB"
      },
      "source": [
        "**maze.c**"
      ]
    },
    {
      "cell_type": "code",
      "execution_count": 4,
      "metadata": {
        "colab": {
          "base_uri": "https://localhost:8080/"
        },
        "id": "7NNzzdFZjwgD",
        "outputId": "0dc81c3c-3d61-4762-82e9-8ad2ac038144"
      },
      "outputs": [
        {
          "output_type": "stream",
          "name": "stdout",
          "text": [
            "Writing maze.c\n"
          ]
        }
      ],
      "source": [
        "%%writefile maze.c\n",
        "\n",
        "\n",
        "#include <stdio.h>\n",
        "#include <stdlib.h>\n",
        "#include <stdbool.h>\n",
        "#include <time.h>\n",
        "#include\"maze.h\"\n",
        "\n",
        "cord make_cord(int r, int c) {\n",
        "    cord ret = { r,c };\n",
        "    return ret;\n",
        "}\n",
        "\n",
        "bool compare_cord(cord s, cord s1) {\n",
        "    if (s.row == s1.row && s.col == s1.col) { return true; }\n",
        "    else {\n",
        "        return false;\n",
        "    }\n",
        "}\n",
        "\n",
        "void make_set(disjoint_set* s, cord value) {\n",
        "    s->height = 1;\n",
        "    s->value = value;\n",
        "    s->parent = s;\n",
        "}\n",
        "\n",
        "//given a member of the set(cell) return the representative(set) to which it belongs\n",
        "// follow the chain of parent pointers until to\n",
        "//the root. O(height of x’s tree)\n",
        "cord find_rep(disjoint_set* cell) {\n",
        "    while (cell->parent != cell) {\n",
        "        cell = cell->parent;\n",
        "    }\n",
        "    return cell->value;\n",
        "}\n",
        "\n",
        "// given a wall put the two cord of th cell in res\n",
        "void find_the_cells_divided(cord* res1, cord* res2, int wall, int nrow, int ncol) {\n",
        "    // Determine the row and the column\n",
        "    int row = wall / (2 * ncol - 1);\n",
        "    int column = wall % (2 * ncol - 1);\n",
        "    if (column < ncol - 1) {\n",
        "        res1->row = (ncol * row + column) / ncol;\n",
        "        res1->col = (ncol * row + column) % ncol;\n",
        "        res2->row = (ncol * row + column + 1) / ncol;\n",
        "        res2->col = (ncol * row + column + 1) % ncol;\n",
        "    }\n",
        "    else {\n",
        "        column += 1 - ncol;\n",
        "        res1->row = (ncol * row + column) / ncol;\n",
        "        res1->col = (ncol * row + column) % ncol;\n",
        "        res2->row = (ncol * (row + 1) + column) / ncol;\n",
        "        res2->col = (ncol * (row + 1) + column) % ncol;\n",
        "\n",
        "    }\n",
        "\n",
        "}\n",
        "\n",
        "/*union of sets\n",
        "given two sets, let the root of one tree point to the root of\n",
        " the other. O(1)\n",
        "Each node is associated with a rank,\n",
        "which is the upper bound on the height of the node, then\n",
        "when UNION, let the root with smaller rank point to\n",
        "the root with larger rank.*/\n",
        "\n",
        "void union_set(disjoint_set* s1, disjoint_set* s2) {\n",
        "    if (s1->height <= s2->height) {\n",
        "        //allora appendi alla radice del maggiore l'albero minore\n",
        "        s1->parent = s2;\n",
        "        s2->height++;\n",
        "    }\n",
        "    else {\n",
        "        s2->parent = s1;\n",
        "        s1->height++;\n",
        "    }\n",
        "    return;\n",
        "}\n",
        "\n",
        "\n",
        "\n",
        "\n",
        "\n",
        "\n",
        "void visualizemaze(bool* walls, int nrow, int ncols)\n",
        "{\n",
        "\n",
        "    //riga iniziale\n",
        "    printf(\"╔\");\n",
        "    for (int i = 0; i < ncols - 1; i++) {\n",
        "        printf(\"════╦\");\n",
        "    }\n",
        "    printf(\"════╗\");\n",
        "    printf(\"\\n\");\n",
        "    //corpo\n",
        "    for (int i = 0; i < nrow * 2 - 1; i++) {\n",
        "        if (i % 2 == 0) {\n",
        "            printf(\"║\");\n",
        "            for (int j = i / 2 * (ncols - 1) + i / 2 * ncols; j < i / 2 * (ncols - 1) + i / 2 * ncols + ncols - 1; j++) {\n",
        "                if (walls[j]) {\n",
        "                  if(i==0 && j ==0){\n",
        "                        printf(\"  s ║\");\n",
        "                  }\n",
        "                  else{\n",
        "                    if(i==nrow*2 && j==ncols-1){\n",
        "                        printf(\"  g ║\");\n",
        "                    }\n",
        "                    else{\n",
        "                        printf(\"    ║\");\n",
        "                    }\n",
        "\n",
        "                  }\n",
        "                }\n",
        "                else {\n",
        "                  if(i==0 && j ==0){\n",
        "                    printf(\"  s  \");\n",
        "                  }\n",
        "                  else{\n",
        "                    printf(\"     \");\n",
        "                      }\n",
        "                }\n",
        "            }\n",
        "            if(i==nrow*2-2 /*&& j==ncols-1*/){\n",
        "                   printf(\" g  ║\\n\");\n",
        "            }\n",
        "            else{\n",
        "              printf(\"    ║\\n\");\n",
        "            }\n",
        "\n",
        "        }\n",
        "        else {\n",
        "            printf(\"╠\");\n",
        "            for (int j = (i / 2) * ncols + (i / 2 + 1) * (ncols - 1); j < (i / 2) * ncols + (i / 2 + 1) * (ncols - 1) + ncols; j++) {\n",
        "                if (walls[j]) {\n",
        "                    if (j != (i / 2) * ncols + (i / 2 + 1) * (ncols - 1)) {\n",
        "                        printf(\"╬════\");\n",
        "                    }\n",
        "                    else {\n",
        "                        printf(\"════\");\n",
        "                    }\n",
        "                }\n",
        "                else {\n",
        "                    if (j != (i / 2) * ncols + (i / 2 + 1) * (ncols - 1)) {\n",
        "                        printf(\"╬    \");\n",
        "                    }\n",
        "                    else {\n",
        "                        printf(\"    \");\n",
        "                    }\n",
        "                }\n",
        "            }\n",
        "            printf(\"╣\\n\");\n",
        "\n",
        "        }\n",
        "    }\n",
        "\n",
        "    printf(\"╚\");\n",
        "    for (int i = 0; i < ncols - 1; i++) {\n",
        "        printf(\"════╩\");\n",
        "    }\n",
        "    printf(\"════╝\");\n",
        "\n",
        "}\n",
        "\n",
        "\n",
        "bool* run_maze(int rows,int cols){\n",
        "  int nwalls = rows * cols * 2 - rows - cols;\n",
        "\n",
        "    //initialize the seed of the random number\n",
        "    srand(time(NULL));\n",
        "    //there are rows*cols sets\n",
        "    //allocate the matrix of sets\n",
        "    disjoint_set** cells = (disjoint_set**)malloc(rows * sizeof(disjoint_set*));\n",
        "    for (int i = 0; i < rows; i++) {\n",
        "        cells[i] = (disjoint_set*)malloc(cols * sizeof(disjoint_set));\n",
        "    }\n",
        "\n",
        "    //initialize the rows * cols disjoint_set\n",
        "    for (int r = 0; r < rows; r++) {\n",
        "        for (int c = 0; c < cols; c++) {\n",
        "            make_set(&cells[r][c], make_cord(r, c));\n",
        "        }\n",
        "    }\n",
        "\n",
        "    //allocate the walls and set alls to true\n",
        "    bool* walls = (bool*)malloc(nwalls * sizeof(bool));\n",
        "    for (int i = 0; i < nwalls; i++) {\n",
        "        walls[i] = true;\n",
        "    }\n",
        "\n",
        "\n",
        "    //until the first start cell and the goal cell are not in the same set continue to delete walls\n",
        "    while (!compare_cord(find_rep(&cells[0][0]), find_rep(&cells[rows - 1][cols - 1]))) {\n",
        "        //pick a random wall among the nwalls available\n",
        "        int random = rand() % nwalls;\n",
        "        cord res1 = { 0,0 };\n",
        "        cord res2 = { 0,0 };\n",
        "        //given a wall return the cordinate(r,c) of the two cells that divide\n",
        "        find_the_cells_divided(&res1, &res2, random, rows, cols);\n",
        "        //if and only if the two cells are not in the same set delete the wall and make a union\n",
        "        if (!compare_cord(find_rep(&cells[res1.row][res1.col]), find_rep(&cells[res2.row][res2.col]))) {\n",
        "            //delete the wall\n",
        "            walls[random] = false;\n",
        "            union_set(&cells[find_rep(&cells[res1.row][res1.col]).row][find_rep(&cells[res1.row][res1.col]).col], &cells[find_rep(&cells[res2.row][res2.col]).row][find_rep(&cells[res2.row][res2.col]).col]);\n",
        "        }\n",
        "    }\n",
        "    //free the memory previously allocated\n",
        "    for(int i =0;i<rows;i++){\n",
        "      free(cells[i]);\n",
        "    }\n",
        "    free(cells);\n",
        "    return walls;\n",
        "}\n",
        "\n"
      ]
    },
    {
      "cell_type": "markdown",
      "metadata": {
        "id": "LdUc21UJJeFG"
      },
      "source": [
        "**main.c**"
      ]
    },
    {
      "cell_type": "code",
      "execution_count": 5,
      "metadata": {
        "colab": {
          "base_uri": "https://localhost:8080/"
        },
        "id": "nxPifyAk6xqP",
        "outputId": "a6baa068-23e6-4b53-f698-3a8f453cbba2"
      },
      "outputs": [
        {
          "output_type": "stream",
          "name": "stdout",
          "text": [
            "Writing main.c\n"
          ]
        }
      ],
      "source": [
        "%%writefile main.c\n",
        "\n",
        "#include <stdio.h>\n",
        "#include <stdlib.h>\n",
        "#include <stdbool.h>\n",
        "#include <time.h>\n",
        "#include\"maze.h\"\n",
        "\n",
        "\n",
        "\n",
        "int main(int argc,char** argv)\n",
        "{\n",
        "    int rows = atoi(argv[1]);\n",
        "    int cols = atoi(argv[2]);\n",
        "    bool* walls = run_maze(rows,cols);\n",
        "\n",
        "    //visualize the maze in a graphic way\n",
        "    visualizemaze(walls, rows, cols);\n",
        "\n",
        "    return 0;\n",
        "}\n"
      ]
    },
    {
      "cell_type": "markdown",
      "metadata": {
        "id": "zhXcFDZ5pE0x"
      },
      "source": [
        "# **Compile the code**"
      ]
    },
    {
      "cell_type": "code",
      "execution_count": 6,
      "metadata": {
        "id": "X04H_4YuIayd"
      },
      "outputs": [],
      "source": [
        "!gcc main.c maze.c"
      ]
    },
    {
      "cell_type": "markdown",
      "metadata": {
        "id": "3OTOZ20opLx9"
      },
      "source": [
        "Usage:\n",
        "pass the number of rows and the columns desired as arguments.\n",
        "\n",
        "!./a.out rows cols"
      ]
    },
    {
      "cell_type": "markdown",
      "metadata": {
        "id": "jhRZuGh1Jvvq"
      },
      "source": [
        "# **Output**"
      ]
    },
    {
      "cell_type": "code",
      "execution_count": 8,
      "metadata": {
        "id": "V2YxBeJiJjoX",
        "colab": {
          "base_uri": "https://localhost:8080/"
        },
        "outputId": "291f3060-3604-4a4e-9c4f-c3a4c2074be7"
      },
      "outputs": [
        {
          "output_type": "stream",
          "name": "stdout",
          "text": [
            "╔════╦════╦════╦════╦════╦════╦════╦════╦════╦════╗\n",
            "║  s      ║    ║    ║         ║                   ║\n",
            "╠════╬    ╬    ╬    ╬════╬    ╬════╬    ╬════╬    ╣\n",
            "║    ║              ║    ║         ║         ║    ║\n",
            "╠    ╬    ╬════╬════╬    ╬════╬    ╬════╬    ╬    ╣\n",
            "║         ║    ║              ║              ║    ║\n",
            "╠    ╬════╬    ╬════╬════╬    ╬    ╬════╬    ╬════╣\n",
            "║              ║    ║                   ║         ║\n",
            "╠════╬════╬    ╬    ╬════╬════╬    ╬════╬════╬════╣\n",
            "║         ║         ║              ║              ║\n",
            "╠    ╬════╬    ╬════╬════╬    ╬    ╬════╬    ╬════╣\n",
            "║              ║         ║    ║         ║         ║\n",
            "╠════╬════╬    ╬    ╬════╬    ╬════╬════╬════╬    ╣\n",
            "║    ║    ║    ║    ║              ║              ║\n",
            "╠    ╬    ╬    ╬    ╬════╬════╬    ╬    ╬════╬════╣\n",
            "║         ║                   ║                   ║\n",
            "╠    ╬════╬    ╬════╬    ╬════╬════╬    ╬    ╬════╣\n",
            "║                   ║                   ║         ║\n",
            "╠════╬    ╬════╬════╬════╬════╬    ╬    ╬    ╬    ╣\n",
            "║                        ║         ║    ║    ║ g  ║\n",
            "╚════╩════╩════╩════╩════╩════╩════╩════╩════╩════╝"
          ]
        }
      ],
      "source": [
        "!./a.out 10 10"
      ]
    },
    {
      "cell_type": "markdown",
      "metadata": {
        "id": "2wo-GbRmJi2n"
      },
      "source": [
        "# **Profiling the algorithm**"
      ]
    },
    {
      "cell_type": "code",
      "execution_count": 9,
      "metadata": {
        "colab": {
          "base_uri": "https://localhost:8080/"
        },
        "id": "F5x2NfRwDxmI",
        "outputId": "51301802-0b0e-4caf-b6da-946f6d659f3c"
      },
      "outputs": [
        {
          "output_type": "stream",
          "name": "stdout",
          "text": [
            "Writing bench.cpp\n"
          ]
        }
      ],
      "source": [
        "%%writefile bench.cpp\n",
        "\n",
        "#include <benchmark/benchmark.h>\n",
        "\n",
        "extern \"C\" {\n",
        "  #include\"maze.c\"\n",
        "}\n",
        "static void BM_RandomMaze(benchmark::State& state) {\n",
        "  // Perform setup here\n",
        "  int N = state.range(0);\n",
        "  for (auto _ : state) {\n",
        "    // This code gets timed\n",
        "    run_maze(N,N);\n",
        "\n",
        "  }\n",
        "  state.SetComplexityN(N);\n",
        "}\n",
        "// Register the function as a benchmark\n",
        "BENCHMARK(BM_RandomMaze)\n",
        "  ->RangeMultiplier(2)\n",
        "  ->Range(2,1024)\n",
        "  ->Complexity();\n",
        "// Run the benchmark\n",
        "BENCHMARK_MAIN();"
      ]
    },
    {
      "cell_type": "code",
      "execution_count": 10,
      "metadata": {
        "id": "TyTc25e8F-GX"
      },
      "outputs": [],
      "source": [
        "!g++ bench.cpp -O2 -std=c++11 -isystem benchmark/include -Lbenchmark/build/src -lbenchmark -lpthread -o testprogram1"
      ]
    },
    {
      "cell_type": "markdown",
      "metadata": {
        "id": "W5SfB_FfHmt5"
      },
      "source": [
        "# **Discuss the complexity**"
      ]
    },
    {
      "cell_type": "markdown",
      "source": [
        "Avendo implementato il disjoint set con la forest:\n",
        "1.   MAKE_SET() complessità O(1)\n",
        "2.   FIND_SET() ha complessità O(the height of the tree) dato che non è stata\n",
        "implementata la path compression, ogni volta per trovare il valore rappresentativo di un set bisogna scorrere tutti i nodi(celle) fino alla radice, se invece avessi implementato la path compression ogni nodo era direttamente connesso alla radice e quindi avremmo avuto O(1) come complessita anche per la find.\n",
        "3.   UNION_SET(): per la union set è stata implementata la union_by_rank di conseguenza ogni union avrà complessità O(1).\n",
        "\n",
        "COMPLESSIVAMENTE LA MIA IMPLEMENTAZIONE HA COMPLESSITA' COMPUTAZIONE(come anche mostrato nel benchmark sotto):\n",
        "\n",
        "\n",
        "*   worst case O(n^3)\n",
        "*   average case O(n^2)\n",
        "*   best case poco più che O(1)\n"
      ],
      "metadata": {
        "id": "eUOsVfJXcl9X"
      }
    },
    {
      "cell_type": "code",
      "execution_count": 11,
      "metadata": {
        "id": "UFkd9LmdGpdk",
        "colab": {
          "base_uri": "https://localhost:8080/"
        },
        "outputId": "f8e355f3-7326-4973-90a0-2afb2d13ab0e"
      },
      "outputs": [
        {
          "output_type": "stream",
          "name": "stdout",
          "text": [
            "2023-10-13T07:55:12+00:00\n",
            "Running ./testprogram1\n",
            "Run on (2 X 2200.19 MHz CPU s)\n",
            "CPU Caches:\n",
            "  L1 Data 32 KiB (x1)\n",
            "  L1 Instruction 32 KiB (x1)\n",
            "  L2 Unified 256 KiB (x1)\n",
            "  L3 Unified 56320 KiB (x1)\n",
            "Load Average: 0.72, 0.67, 0.33\n",
            "-------------------------------------------------------------\n",
            "Benchmark                   Time             CPU   Iterations\n",
            "-------------------------------------------------------------\n",
            "\u001b[0;32mBM_RandomMaze/2    \u001b[m\u001b[0;33m      2012 ns         1961 ns   \u001b[m\u001b[0;36m    356555\u001b[m\n",
            "\u001b[m\u001b[0;32mBM_RandomMaze/4    \u001b[m\u001b[0;33m      2777 ns         2727 ns   \u001b[m\u001b[0;36m    284172\u001b[m\n",
            "\u001b[m\u001b[0;32mBM_RandomMaze/8    \u001b[m\u001b[0;33m      8236 ns         7998 ns   \u001b[m\u001b[0;36m     86700\u001b[m\n",
            "\u001b[m\u001b[0;32mBM_RandomMaze/16   \u001b[m\u001b[0;33m     36784 ns        36174 ns   \u001b[m\u001b[0;36m     16362\u001b[m\n",
            "\u001b[m\u001b[0;32mBM_RandomMaze/32   \u001b[m\u001b[0;33m    218904 ns       212131 ns   \u001b[m\u001b[0;36m      3933\u001b[m\n",
            "\u001b[m\u001b[0;32mBM_RandomMaze/64   \u001b[m\u001b[0;33m   1005837 ns       967835 ns   \u001b[m\u001b[0;36m       739\u001b[m\n",
            "\u001b[m\u001b[0;32mBM_RandomMaze/128  \u001b[m\u001b[0;33m  11096448 ns     10722480 ns   \u001b[m\u001b[0;36m        67\u001b[m\n",
            "\u001b[m\u001b[0;32mBM_RandomMaze/256  \u001b[m\u001b[0;33m  11181786 ns     10881063 ns   \u001b[m\u001b[0;36m        48\u001b[m\n",
            "\u001b[m\u001b[0;32mBM_RandomMaze/512  \u001b[m\u001b[0;33m  76778003 ns     75406870 ns   \u001b[m\u001b[0;36m         9\u001b[m\n",
            "\u001b[m\u001b[0;32mBM_RandomMaze/1024 \u001b[m\u001b[0;33m1000459686 ns    985549432 ns   \u001b[m\u001b[0;36m         1\u001b[m\n",
            "\u001b[m\u001b[0;34mBM_RandomMaze_BigO \u001b[m\u001b[0;33m      0.93 N^3        0.91 N^3  \u001b[m\n",
            "\u001b[m\u001b[0;34mBM_RandomMaze_RMS  \u001b[m\u001b[0;33m        14 %            14 %    \u001b[m\n",
            "\u001b[m"
          ]
        }
      ],
      "source": [
        "!./testprogram1"
      ]
    }
  ],
  "metadata": {
    "colab": {
      "provenance": [],
      "authorship_tag": "ABX9TyOcHRtL/trtqHTJiW672dIe",
      "include_colab_link": true
    },
    "kernelspec": {
      "display_name": "Python 3",
      "name": "python3"
    },
    "language_info": {
      "name": "python"
    }
  },
  "nbformat": 4,
  "nbformat_minor": 0
}